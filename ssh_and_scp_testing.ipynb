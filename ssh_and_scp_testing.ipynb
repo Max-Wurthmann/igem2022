{
 "cells": [
  {
   "cell_type": "code",
   "execution_count": 1,
   "metadata": {},
   "outputs": [],
   "source": [
    "import paramiko\n",
    "from scp import SCPClient\n",
    "\n",
    "ssh = paramiko.SSHClient()\n",
    "ssh.set_missing_host_key_policy(paramiko.AutoAddPolicy())\n",
    "key = paramiko.RSAKey.from_private_key_file(\"../ot2_no_pp\")"
   ]
  },
  {
   "cell_type": "code",
   "execution_count": 4,
   "metadata": {},
   "outputs": [
    {
     "ename": "AuthenticationException",
     "evalue": "Authentication failed.",
     "output_type": "error",
     "traceback": [
      "\u001b[1;31m---------------------------------------------------------------------------\u001b[0m",
      "\u001b[1;31mAuthenticationException\u001b[0m                   Traceback (most recent call last)",
      "\u001b[1;32mc:\\Users\\mxwur\\Documents\\Studium\\IGEM\\Opentrons\\igem2023\\ssh_and_scp_testing.ipynb Cell 2\u001b[0m in \u001b[0;36m1\n\u001b[1;32m----> <a href='vscode-notebook-cell:/c%3A/Users/mxwur/Documents/Studium/IGEM/Opentrons/igem2023/ssh_and_scp_testing.ipynb#W1sZmlsZQ%3D%3D?line=0'>1</a>\u001b[0m ssh\u001b[39m.\u001b[39;49mconnect(\u001b[39m\"\u001b[39;49m\u001b[39m169.254.188.208\u001b[39;49m\u001b[39m\"\u001b[39;49m, username\u001b[39m=\u001b[39;49m\u001b[39m\"\u001b[39;49m\u001b[39mroot\u001b[39;49m\u001b[39m\"\u001b[39;49m, pkey\u001b[39m=\u001b[39;49mkey, \n\u001b[0;32m      <a href='vscode-notebook-cell:/c%3A/Users/mxwur/Documents/Studium/IGEM/Opentrons/igem2023/ssh_and_scp_testing.ipynb#W1sZmlsZQ%3D%3D?line=1'>2</a>\u001b[0m             \u001b[39m#disabled_algorithms={'keys': ['rsa-sha2-256', 'rsa-sha2-512']},\u001b[39;49;00m\n\u001b[0;32m      <a href='vscode-notebook-cell:/c%3A/Users/mxwur/Documents/Studium/IGEM/Opentrons/igem2023/ssh_and_scp_testing.ipynb#W1sZmlsZQ%3D%3D?line=2'>3</a>\u001b[0m             look_for_keys\u001b[39m=\u001b[39;49m\u001b[39mFalse\u001b[39;49;00m,\n\u001b[0;32m      <a href='vscode-notebook-cell:/c%3A/Users/mxwur/Documents/Studium/IGEM/Opentrons/igem2023/ssh_and_scp_testing.ipynb#W1sZmlsZQ%3D%3D?line=3'>4</a>\u001b[0m             banner_timeout\u001b[39m=\u001b[39;49m\u001b[39m200\u001b[39;49m,\n\u001b[0;32m      <a href='vscode-notebook-cell:/c%3A/Users/mxwur/Documents/Studium/IGEM/Opentrons/igem2023/ssh_and_scp_testing.ipynb#W1sZmlsZQ%3D%3D?line=4'>5</a>\u001b[0m             )\n",
      "File \u001b[1;32mc:\\Users\\mxwur\\anaconda3\\envs\\igem\\lib\\site-packages\\paramiko\\client.py:459\u001b[0m, in \u001b[0;36mSSHClient.connect\u001b[1;34m(self, hostname, port, username, password, pkey, key_filename, timeout, allow_agent, look_for_keys, compress, sock, gss_auth, gss_kex, gss_deleg_creds, gss_host, banner_timeout, auth_timeout, channel_timeout, gss_trust_dns, passphrase, disabled_algorithms, transport_factory)\u001b[0m\n\u001b[0;32m    456\u001b[0m \u001b[39melse\u001b[39;00m:\n\u001b[0;32m    457\u001b[0m     key_filenames \u001b[39m=\u001b[39m key_filename\n\u001b[1;32m--> 459\u001b[0m \u001b[39mself\u001b[39;49m\u001b[39m.\u001b[39;49m_auth(\n\u001b[0;32m    460\u001b[0m     username,\n\u001b[0;32m    461\u001b[0m     password,\n\u001b[0;32m    462\u001b[0m     pkey,\n\u001b[0;32m    463\u001b[0m     key_filenames,\n\u001b[0;32m    464\u001b[0m     allow_agent,\n\u001b[0;32m    465\u001b[0m     look_for_keys,\n\u001b[0;32m    466\u001b[0m     gss_auth,\n\u001b[0;32m    467\u001b[0m     gss_kex,\n\u001b[0;32m    468\u001b[0m     gss_deleg_creds,\n\u001b[0;32m    469\u001b[0m     t\u001b[39m.\u001b[39;49mgss_host,\n\u001b[0;32m    470\u001b[0m     passphrase,\n\u001b[0;32m    471\u001b[0m )\n",
      "File \u001b[1;32mc:\\Users\\mxwur\\anaconda3\\envs\\igem\\lib\\site-packages\\paramiko\\client.py:790\u001b[0m, in \u001b[0;36mSSHClient._auth\u001b[1;34m(self, username, password, pkey, key_filenames, allow_agent, look_for_keys, gss_auth, gss_kex, gss_deleg_creds, gss_host, passphrase)\u001b[0m\n\u001b[0;32m    788\u001b[0m \u001b[39m# if we got an auth-failed exception earlier, re-raise it\u001b[39;00m\n\u001b[0;32m    789\u001b[0m \u001b[39mif\u001b[39;00m saved_exception \u001b[39mis\u001b[39;00m \u001b[39mnot\u001b[39;00m \u001b[39mNone\u001b[39;00m:\n\u001b[1;32m--> 790\u001b[0m     \u001b[39mraise\u001b[39;00m saved_exception\n\u001b[0;32m    791\u001b[0m \u001b[39mraise\u001b[39;00m SSHException(\u001b[39m\"\u001b[39m\u001b[39mNo authentication methods available\u001b[39m\u001b[39m\"\u001b[39m)\n",
      "File \u001b[1;32mc:\\Users\\mxwur\\anaconda3\\envs\\igem\\lib\\site-packages\\paramiko\\client.py:690\u001b[0m, in \u001b[0;36mSSHClient._auth\u001b[1;34m(self, username, password, pkey, key_filenames, allow_agent, look_for_keys, gss_auth, gss_kex, gss_deleg_creds, gss_host, passphrase)\u001b[0m\n\u001b[0;32m    682\u001b[0m \u001b[39mtry\u001b[39;00m:\n\u001b[0;32m    683\u001b[0m     \u001b[39mself\u001b[39m\u001b[39m.\u001b[39m_log(\n\u001b[0;32m    684\u001b[0m         DEBUG,\n\u001b[0;32m    685\u001b[0m         \u001b[39m\"\u001b[39m\u001b[39mTrying SSH key \u001b[39m\u001b[39m{}\u001b[39;00m\u001b[39m\"\u001b[39m\u001b[39m.\u001b[39mformat(\n\u001b[0;32m    686\u001b[0m             hexlify(pkey\u001b[39m.\u001b[39mget_fingerprint())\n\u001b[0;32m    687\u001b[0m         ),\n\u001b[0;32m    688\u001b[0m     )\n\u001b[0;32m    689\u001b[0m     allowed_types \u001b[39m=\u001b[39m \u001b[39mset\u001b[39m(\n\u001b[1;32m--> 690\u001b[0m         \u001b[39mself\u001b[39;49m\u001b[39m.\u001b[39;49m_transport\u001b[39m.\u001b[39;49mauth_publickey(username, pkey)\n\u001b[0;32m    691\u001b[0m     )\n\u001b[0;32m    692\u001b[0m     two_factor \u001b[39m=\u001b[39m allowed_types \u001b[39m&\u001b[39m two_factor_types\n\u001b[0;32m    693\u001b[0m     \u001b[39mif\u001b[39;00m \u001b[39mnot\u001b[39;00m two_factor:\n",
      "File \u001b[1;32mc:\\Users\\mxwur\\anaconda3\\envs\\igem\\lib\\site-packages\\paramiko\\transport.py:1640\u001b[0m, in \u001b[0;36mTransport.auth_publickey\u001b[1;34m(self, username, key, event)\u001b[0m\n\u001b[0;32m   1637\u001b[0m \u001b[39mif\u001b[39;00m event \u001b[39mis\u001b[39;00m \u001b[39mnot\u001b[39;00m \u001b[39mNone\u001b[39;00m:\n\u001b[0;32m   1638\u001b[0m     \u001b[39m# caller wants to wait for event themselves\u001b[39;00m\n\u001b[0;32m   1639\u001b[0m     \u001b[39mreturn\u001b[39;00m []\n\u001b[1;32m-> 1640\u001b[0m \u001b[39mreturn\u001b[39;00m \u001b[39mself\u001b[39;49m\u001b[39m.\u001b[39;49mauth_handler\u001b[39m.\u001b[39;49mwait_for_response(my_event)\n",
      "File \u001b[1;32mc:\\Users\\mxwur\\anaconda3\\envs\\igem\\lib\\site-packages\\paramiko\\auth_handler.py:259\u001b[0m, in \u001b[0;36mAuthHandler.wait_for_response\u001b[1;34m(self, event)\u001b[0m\n\u001b[0;32m    257\u001b[0m     \u001b[39mif\u001b[39;00m \u001b[39missubclass\u001b[39m(e\u001b[39m.\u001b[39m\u001b[39m__class__\u001b[39m, PartialAuthentication):\n\u001b[0;32m    258\u001b[0m         \u001b[39mreturn\u001b[39;00m e\u001b[39m.\u001b[39mallowed_types\n\u001b[1;32m--> 259\u001b[0m     \u001b[39mraise\u001b[39;00m e\n\u001b[0;32m    260\u001b[0m \u001b[39mreturn\u001b[39;00m []\n",
      "\u001b[1;31mAuthenticationException\u001b[0m: Authentication failed."
     ]
    }
   ],
   "source": [
    "ssh.connect(\"169.254.188.208\", username=\"root\", pkey=key, \n",
    "            #disabled_algorithms={'keys': ['rsa-sha2-256', 'rsa-sha2-512']},\n",
    "            look_for_keys=False,\n",
    "            banner_timeout=200,\n",
    "            )\n",
    "#scp = SCPClient(ssh.get_transport())"
   ]
  },
  {
   "cell_type": "code",
   "execution_count": null,
   "metadata": {},
   "outputs": [
    {
     "data": {
      "text/plain": [
       "(<paramiko.ChannelFile from <paramiko.Channel 0 (open) window=24576 -> <paramiko.Transport at 0x8723fe80 (cipher aes128-ctr, 128 bits) (active; 1 open channel(s))>>>,\n",
       " <paramiko.ChannelFile from <paramiko.Channel 0 (open) window=24576 -> <paramiko.Transport at 0x8723fe80 (cipher aes128-ctr, 128 bits) (active; 1 open channel(s))>>>,\n",
       " <paramiko.ChannelFile from <paramiko.Channel 0 (open) window=24576 -> <paramiko.Transport at 0x8723fe80 (cipher aes128-ctr, 128 bits) (active; 1 open channel(s))>>>)"
      ]
     },
     "execution_count": 12,
     "metadata": {},
     "output_type": "execute_result"
    }
   ],
   "source": [
    "out = ssh.exec_command(\"opentrons_execute /var/lib/jupyter/notebooks/import_test.py\")\n",
    "out"
   ]
  },
  {
   "cell_type": "code",
   "execution_count": null,
   "metadata": {},
   "outputs": [],
   "source": [
    "scp.close()\n",
    "ssh.close()\n"
   ]
  }
 ],
 "metadata": {
  "kernelspec": {
   "display_name": "igem",
   "language": "python",
   "name": "python3"
  },
  "language_info": {
   "codemirror_mode": {
    "name": "ipython",
    "version": 3
   },
   "file_extension": ".py",
   "mimetype": "text/x-python",
   "name": "python",
   "nbconvert_exporter": "python",
   "pygments_lexer": "ipython3",
   "version": "3.9.7"
  },
  "orig_nbformat": 4
 },
 "nbformat": 4,
 "nbformat_minor": 2
}
