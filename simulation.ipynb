{
 "cells": [
  {
   "cell_type": "code",
   "execution_count": 1,
   "metadata": {},
   "outputs": [],
   "source": [
    "import opentrons\n",
    "from opentrons import execute"
   ]
  },
  {
   "cell_type": "code",
   "execution_count": 2,
   "metadata": {},
   "outputs": [
    {
     "name": "stderr",
     "output_type": "stream",
     "text": [
      "C:\\Users\\mxwur\\.opentrons\\robot_settings.json not found. Loading defaults\n",
      "Failed to initialize character device, will not be able to control gpios (lights, button, smoothiekill, smoothie reset). Only one connection can be made to the gpios at a time. If you need to control gpios, first stop the robot server with systemctl stop opentrons-robot-server. Until you restart the server with systemctl start opentrons-robot-server, you will be unable to control the robot using the Opentrons app.\n",
      "This is intended to run on a robot, and while it can connect to a smoothie via a usb/serial adapter unexpected things using gpios (such as smoothie reset or light management) will fail. If you are seeing this message and you are running on a robot, you need to set the RUNNING_ON_PI environmental variable to 1.\n",
      "Failed to initiate aionotify, cannot watch modules or door, likely because not running on linux\n",
      "Motor driver could not connect, reprogramming if possible\n",
      "Traceback (most recent call last):\n",
      "  File \"c:\\Users\\mxwur\\anaconda3\\envs\\igem\\lib\\site-packages\\opentrons\\hardware_control\\api.py\", line 192, in build_hardware_controller\n",
      "    await backend.connect(port)\n",
      "  File \"c:\\Users\\mxwur\\anaconda3\\envs\\igem\\lib\\site-packages\\opentrons\\hardware_control\\backends\\controller.py\", line 268, in connect\n",
      "    await self._smoothie_driver.connect(port)\n",
      "  File \"c:\\Users\\mxwur\\anaconda3\\envs\\igem\\lib\\site-packages\\opentrons\\drivers\\smoothie_drivers\\driver_3_0.py\", line 391, in connect\n",
      "    await self._connect_to_port(port)\n",
      "  File \"c:\\Users\\mxwur\\anaconda3\\envs\\igem\\lib\\site-packages\\opentrons\\drivers\\smoothie_drivers\\driver_3_0.py\", line 418, in _connect_to_port\n",
      "    port = self.get_port() if port is None else port\n",
      "  File \"c:\\Users\\mxwur\\anaconda3\\envs\\igem\\lib\\site-packages\\opentrons\\drivers\\smoothie_drivers\\driver_3_0.py\", line 414, in get_port\n",
      "    return get_ports_by_name(device_name=smoothie_id)[0]\n",
      "IndexError: list index out of range\n",
      "Motor controller could not be connected and no firmware was provided for (re)programming\n",
      "Exception in Thread Manager build\n",
      "Traceback (most recent call last):\n",
      "  File \"c:\\Users\\mxwur\\anaconda3\\envs\\igem\\lib\\site-packages\\opentrons\\hardware_control\\thread_manager.py\", line 187, in _build_and_start_loop\n",
      "    managed_obj = loop.run_until_complete(builder(*args, loop=loop, **kwargs))\n",
      "  File \"c:\\Users\\mxwur\\anaconda3\\envs\\igem\\lib\\asyncio\\base_events.py\", line 647, in run_until_complete\n",
      "    return future.result()\n",
      "  File \"c:\\Users\\mxwur\\anaconda3\\envs\\igem\\lib\\site-packages\\opentrons\\hardware_control\\api.py\", line 210, in build_hardware_controller\n",
      "    raise RuntimeError(msg)\n",
      "RuntimeError: Motor controller could not be connected and no firmware was provided for (re)programming\n"
     ]
    },
    {
     "ename": "ThreadManagerException",
     "evalue": "Failed to create Managed Object",
     "output_type": "error",
     "traceback": [
      "\u001b[1;31m---------------------------------------------------------------------------\u001b[0m",
      "\u001b[1;31mThreadManagerException\u001b[0m                    Traceback (most recent call last)",
      "\u001b[1;32m~\\AppData\\Local\\Temp\\ipykernel_16288\\3692237589.py\u001b[0m in \u001b[0;36m<module>\u001b[1;34m\u001b[0m\n\u001b[0;32m      1\u001b[0m \u001b[1;31m# should yield an interactive protocol which would be useful for trubleshooting but is not running on my machine currently\u001b[0m\u001b[1;33m\u001b[0m\u001b[1;33m\u001b[0m\u001b[0m\n\u001b[1;32m----> 2\u001b[1;33m \u001b[0mprotocol\u001b[0m \u001b[1;33m=\u001b[0m \u001b[0mexecute\u001b[0m\u001b[1;33m.\u001b[0m\u001b[0mget_protocol_api\u001b[0m\u001b[1;33m(\u001b[0m\u001b[1;34m\"2.13\"\u001b[0m\u001b[1;33m)\u001b[0m\u001b[1;33m\u001b[0m\u001b[1;33m\u001b[0m\u001b[0m\n\u001b[0m",
      "\u001b[1;32mc:\\Users\\mxwur\\anaconda3\\envs\\igem\\lib\\site-packages\\opentrons\\execute.py\u001b[0m in \u001b[0;36mget_protocol_api\u001b[1;34m(version, bundled_labware, bundled_data, extra_labware)\u001b[0m\n\u001b[0;32m     89\u001b[0m         \u001b[1;31m# you can't control the loop from inside. If we update to\u001b[0m\u001b[1;33m\u001b[0m\u001b[1;33m\u001b[0m\u001b[0m\n\u001b[0;32m     90\u001b[0m         \u001b[1;31m# IPython 7 we can avoid this, but for now we can't\u001b[0m\u001b[1;33m\u001b[0m\u001b[1;33m\u001b[0m\u001b[0m\n\u001b[1;32m---> 91\u001b[1;33m         \u001b[0m_THREAD_MANAGED_HW\u001b[0m \u001b[1;33m=\u001b[0m \u001b[0mThreadManager\u001b[0m\u001b[1;33m(\u001b[0m\u001b[0mAPI\u001b[0m\u001b[1;33m.\u001b[0m\u001b[0mbuild_hardware_controller\u001b[0m\u001b[1;33m)\u001b[0m\u001b[1;33m\u001b[0m\u001b[1;33m\u001b[0m\u001b[0m\n\u001b[0m\u001b[0;32m     92\u001b[0m     \u001b[1;32mif\u001b[0m \u001b[0misinstance\u001b[0m\u001b[1;33m(\u001b[0m\u001b[0mversion\u001b[0m\u001b[1;33m,\u001b[0m \u001b[0mstr\u001b[0m\u001b[1;33m)\u001b[0m\u001b[1;33m:\u001b[0m\u001b[1;33m\u001b[0m\u001b[1;33m\u001b[0m\u001b[0m\n\u001b[0;32m     93\u001b[0m         \u001b[0mchecked_version\u001b[0m \u001b[1;33m=\u001b[0m \u001b[0mversion_from_string\u001b[0m\u001b[1;33m(\u001b[0m\u001b[0mversion\u001b[0m\u001b[1;33m)\u001b[0m\u001b[1;33m\u001b[0m\u001b[1;33m\u001b[0m\u001b[0m\n",
      "\u001b[1;32mc:\\Users\\mxwur\\anaconda3\\envs\\igem\\lib\\site-packages\\opentrons\\hardware_control\\thread_manager.py\u001b[0m in \u001b[0;36m__init__\u001b[1;34m(self, builder, *args, **kwargs)\u001b[0m\n\u001b[0;32m    160\u001b[0m         \u001b[0mthread\u001b[0m\u001b[1;33m.\u001b[0m\u001b[0mstart\u001b[0m\u001b[1;33m(\u001b[0m\u001b[1;33m)\u001b[0m\u001b[1;33m\u001b[0m\u001b[1;33m\u001b[0m\u001b[0m\n\u001b[0;32m    161\u001b[0m         \u001b[1;32mif\u001b[0m \u001b[0mblocking\u001b[0m\u001b[1;33m:\u001b[0m\u001b[1;33m\u001b[0m\u001b[1;33m\u001b[0m\u001b[0m\n\u001b[1;32m--> 162\u001b[1;33m             \u001b[0mobject\u001b[0m\u001b[1;33m.\u001b[0m\u001b[0m__getattribute__\u001b[0m\u001b[1;33m(\u001b[0m\u001b[0mself\u001b[0m\u001b[1;33m,\u001b[0m \u001b[1;34m\"managed_thread_ready_blocking\"\u001b[0m\u001b[1;33m)\u001b[0m\u001b[1;33m(\u001b[0m\u001b[1;33m)\u001b[0m\u001b[1;33m\u001b[0m\u001b[1;33m\u001b[0m\u001b[0m\n\u001b[0m\u001b[0;32m    163\u001b[0m \u001b[1;33m\u001b[0m\u001b[0m\n\u001b[0;32m    164\u001b[0m     \u001b[1;32mdef\u001b[0m \u001b[0mmanaged_thread_ready_blocking\u001b[0m\u001b[1;33m(\u001b[0m\u001b[0mself\u001b[0m\u001b[1;33m)\u001b[0m \u001b[1;33m->\u001b[0m \u001b[1;32mNone\u001b[0m\u001b[1;33m:\u001b[0m\u001b[1;33m\u001b[0m\u001b[1;33m\u001b[0m\u001b[0m\n",
      "\u001b[1;32mc:\\Users\\mxwur\\anaconda3\\envs\\igem\\lib\\site-packages\\opentrons\\hardware_control\\thread_manager.py\u001b[0m in \u001b[0;36mmanaged_thread_ready_blocking\u001b[1;34m(self)\u001b[0m\n\u001b[0;32m    165\u001b[0m         \u001b[0mobject\u001b[0m\u001b[1;33m.\u001b[0m\u001b[0m__getattribute__\u001b[0m\u001b[1;33m(\u001b[0m\u001b[0mself\u001b[0m\u001b[1;33m,\u001b[0m \u001b[1;34m\"_is_running\"\u001b[0m\u001b[1;33m)\u001b[0m\u001b[1;33m.\u001b[0m\u001b[0mwait\u001b[0m\u001b[1;33m(\u001b[0m\u001b[1;33m)\u001b[0m\u001b[1;33m\u001b[0m\u001b[1;33m\u001b[0m\u001b[0m\n\u001b[0;32m    166\u001b[0m         \u001b[1;32mif\u001b[0m \u001b[1;32mnot\u001b[0m \u001b[0mobject\u001b[0m\u001b[1;33m.\u001b[0m\u001b[0m__getattribute__\u001b[0m\u001b[1;33m(\u001b[0m\u001b[0mself\u001b[0m\u001b[1;33m,\u001b[0m \u001b[1;34m\"managed_obj\"\u001b[0m\u001b[1;33m)\u001b[0m\u001b[1;33m:\u001b[0m\u001b[1;33m\u001b[0m\u001b[1;33m\u001b[0m\u001b[0m\n\u001b[1;32m--> 167\u001b[1;33m             \u001b[1;32mraise\u001b[0m \u001b[0mThreadManagerException\u001b[0m\u001b[1;33m(\u001b[0m\u001b[1;34m\"Failed to create Managed Object\"\u001b[0m\u001b[1;33m)\u001b[0m\u001b[1;33m\u001b[0m\u001b[1;33m\u001b[0m\u001b[0m\n\u001b[0m\u001b[0;32m    168\u001b[0m \u001b[1;33m\u001b[0m\u001b[0m\n\u001b[0;32m    169\u001b[0m     \u001b[1;32masync\u001b[0m \u001b[1;32mdef\u001b[0m \u001b[0mmanaged_thread_ready_async\u001b[0m\u001b[1;33m(\u001b[0m\u001b[0mself\u001b[0m\u001b[1;33m)\u001b[0m \u001b[1;33m->\u001b[0m \u001b[1;32mNone\u001b[0m\u001b[1;33m:\u001b[0m\u001b[1;33m\u001b[0m\u001b[1;33m\u001b[0m\u001b[0m\n",
      "\u001b[1;31mThreadManagerException\u001b[0m: Failed to create Managed Object"
     ]
    }
   ],
   "source": [
    "# should yield an interactive protocol which would be useful for trubleshooting but is not running on my machine currently\n",
    "protocol = execute.get_protocol_api(\"2.13\")"
   ]
  }
 ],
 "metadata": {
  "kernelspec": {
   "display_name": "igem",
   "language": "python",
   "name": "python3"
  },
  "language_info": {
   "codemirror_mode": {
    "name": "ipython",
    "version": 3
   },
   "file_extension": ".py",
   "mimetype": "text/x-python",
   "name": "python",
   "nbconvert_exporter": "python",
   "pygments_lexer": "ipython3",
   "version": "3.9.13"
  },
  "orig_nbformat": 4
 },
 "nbformat": 4,
 "nbformat_minor": 2
}
