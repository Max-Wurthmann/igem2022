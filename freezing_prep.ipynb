{
 "cells": [
  {
   "attachments": {},
   "cell_type": "markdown",
   "metadata": {},
   "source": [
    "#### How to run this\n",
    "You can either start the jupyter server via the Opentrons-App under Robot > Settings > Advanced Settings.\n",
    "\n",
    "Or you can ssh into the robots raspberry pie navigate to /var/lib/jupyter/notebooks (I have done this) and then you can probably start a jupyter notebook from there. To ssh into the robot you would need the IP and if you use the wired IP (can be found in the Opentrons-APP) you need to look that up again every time you connect as it changes. You could also try go via the WLAN (different IP, probalby permenent). \n",
    "\n",
    "However I usually found it easiest to go via the APP"
   ]
  },
  {
   "cell_type": "code",
   "execution_count": 1,
   "metadata": {},
   "outputs": [],
   "source": [
    "# if you run this notebook on the robot and want to execute the commands you put in, use the following import\n",
    "#from opentrons.execute import get_protocol_api\n",
    "\n",
    "# if you are not running this on the robot and just want to simulate what the robot would do, use the following import\n",
    "from opentrons.simulate import get_protocol_api"
   ]
  },
  {
   "cell_type": "code",
   "execution_count": 2,
   "metadata": {},
   "outputs": [
    {
     "name": "stderr",
     "output_type": "stream",
     "text": [
      "Der Befehl \"systemctl\" ist entweder falsch geschrieben oder\n",
      "konnte nicht gefunden werden.\n",
      "C:\\Users\\mxwur\\.opentrons\\robot_settings.json not found. Loading defaults\n",
      "C:\\Users\\mxwur\\.opentrons\\deck_calibration.json not found. Loading defaults\n"
     ]
    }
   ],
   "source": [
    "# the following command is executed in the terminal to stop the robot server to give this protocol contorl over gpios\n",
    "!systemctl stop opentrons-robot-server\n",
    "\n",
    "# if the above command is not executed the protocol will not have access to gpios like lights etc.\n",
    "protocol = get_protocol_api(\"2.13\")\n",
    "\n",
    "# send the arm home\n",
    "protocol.home()"
   ]
  },
  {
   "attachments": {},
   "cell_type": "markdown",
   "metadata": {},
   "source": [
    "### Labware\n",
    "All predefined labware can be found at at the [labware library](https://labware.opentrons.com/).\n",
    "Otherwise we might need to do a custom labware definition which should be doable.\n",
    "\n",
    "The current definitions are:\n",
    "* _culture_wellplate_: 96-Wellplate on deckslot 2 containing the 230ul of medium inoculated with a bacteria culture. \n",
    "This is currently a [corning_96_wellplate_360ul_flat](https://labware.opentrons.com/corning_96_wellplate_360ul_flat?category=wellPlate). I understand that you want a non-flat bottom but this is the only wellplate I found that is neither a pcr nor a deep wellplate. You might want to choose a different wellplate.\n",
    "* _target_wellplate_: 96-Wellplate on deckslot 1 that is initially empty. Again this is currently a [corning_96_wellplate_360ul_flat](https://labware.opentrons.com/corning_96_wellplate_360ul_flat?category=wellPlate), you might want to change that.\n",
    "* _glycerol_wellplate_: 96-Deep-Wellplate on deckslot 4 containing glycerol. This is currently a [opentrons_96_deep_well_adapter_nest_wellplate_2ml_deep](https://labware.opentrons.com/opentrons_96_deep_well_adapter_nest_wellplate_2ml_deep), a V-bottom with 2ml volume per well. This might have to be adjusted aswell.\n",
    "* _tiprack_300ul_1_: a tiprack with 96 300ul no filter tips on deckslot 3. See [detail](https://labware.opentrons.com/opentrons_96_tiprack_300ul?category=tipRack).\n",
    "* _tiprack_300ul_2_: Same as above on deckslot 5. Only needed at all if you are using all 96 wells. Only ever needs to contain 1 tip in upper left slot. This is the additional tip you need for dispensing the glycerol in step 1 if you need 96 tips in step 2 (96 wells used -> 96 culture transfers in step 2 -> 96 tips needed for step 2)\n",
    "\n",
    "### Steps\n",
    "1. transfer 115ul from _glycerol_wellplate_ to each well in _target_wellplate_.\n",
    "2. transfer 115ul from each well in _culture_wellplate_ to each well in _target_wellplate_.\n",
    "3. mix content of _target_wellplate_ by aspirateing and dispensing into the same well a few times.\n",
    "\n",
    "To save tips steps 2 and 3 are performed in paralell, meaning after each transfer from a _culture_wellplate_ to a _target_wellplate_ the pipette will mix the content of the _target_wellplate_ by aspirating and dispensing a few times."
   ]
  },
  {
   "cell_type": "code",
   "execution_count": 3,
   "metadata": {},
   "outputs": [],
   "source": [
    "# load hardware\n",
    "culture_wellplate = protocol.load_labware('corning_96_wellplate_360ul_flat', 2)\n",
    "target_wellplate = protocol.load_labware('corning_96_wellplate_360ul_flat', 1)\n",
    "glycerol_wellplate = protocol.load_labware('opentrons_96_deep_well_adapter_nest_wellplate_2ml_deep', 4)\n",
    "\n",
    "tiprack_300ul_1 = protocol.load_labware('opentrons_96_tiprack_300ul', 3)\n",
    "\n",
    "#only needed if you use all 96 wells of the cultere/target wellplates\n",
    "tiprack_300ul_2 = protocol.load_labware('opentrons_96_tiprack_300ul', 5)\n",
    "\n",
    "\n",
    "# bigger pipette (30 - 300 µL)\n",
    "p300 = protocol.load_instrument('p300_single', mount='right', tip_racks=[tiprack_300ul_1, tiprack_300ul_2]) \n"
   ]
  },
  {
   "attachments": {},
   "cell_type": "markdown",
   "metadata": {},
   "source": [
    "The smaller pipette (1 - 10 µL) is not required for this protocol but if you want to load it anyway use the following code and do not forget to place the 20ul tiprack on the appropriate deckslot (here 5)\n",
    "```(python)\n",
    "tiprack_20ul = protocol.load_labware('opentrons_96_tiprack_20ul', 5)\n",
    "p10 = protocol.load_instrument('p10_single', mount='left', tip_racks=[tiprack_20ul])\n",
    "```"
   ]
  },
  {
   "cell_type": "code",
   "execution_count": 4,
   "metadata": {},
   "outputs": [],
   "source": [
    "# rows and columns of the in the 96 wellplates\n",
    "# if you use only a subset of these, cut the row or col indices you do not use from the lists\n",
    "rows = [chr(x) for x in range(ord(\"A\"), ord(\"H\")+1)] #letters from A to H\n",
    "cols = list(range(12))\n",
    "\n",
    "# list of relevant wells in the 96 wellplates\n",
    "# use col+1 as named wellindexing stats with 1 (first well is \"A1\" not \"A0\")\n",
    "relevant_wells = [f\"{row}{col+1}\" for row in rows for col in cols]"
   ]
  },
  {
   "cell_type": "code",
   "execution_count": 5,
   "metadata": {},
   "outputs": [],
   "source": [
    "double_volume = 230\n",
    "volume = double_volume / 2 # volume to transfer (115 ul)"
   ]
  },
  {
   "cell_type": "code",
   "execution_count": 6,
   "metadata": {},
   "outputs": [],
   "source": [
    "# the wells of the glycerol wellplate that actually contain glycerol\n",
    "glycerol_wells = [\"A1\",\"A2\",\"A3\",\"A4\",\"A5\",\"A6\",\"A7\",]\n",
    "\n",
    "# the amount of glycerol contained in each of the above wells \n",
    "# maximum defined by wellplate used (currently 2000)\n",
    "glycerol_volume = 1800\n",
    "\n",
    "\n",
    "# using a buffer when dispensing the glycerol yield higher precision in dispensed volume \n",
    "# defaults to False as this is not a task that requires very high precision\n",
    "# for each aspiration the buffer_volume is additionally aspirated and after the transfers is blown out into the thrash\n",
    "use_buffer = False\n",
    "buffer_volume = p300.min_volume if use_buffer else 0\n",
    "\n",
    "# only relevant if use_buffer\n",
    "transfers_per_aspiration = p300.max_volume // volume\n",
    "\n",
    "# number of target wells that can be filled with glycerol from a single glycerol_well\n",
    "n_targets_per_g_well = int(glycerol_volume // (volume + buffer_volume/transfers_per_aspiration))\n",
    "\n",
    "# check that enaugh glycerol is provided\n",
    "assert n_targets_per_g_well * len(glycerol_wells) >= len(relevant_wells)"
   ]
  },
  {
   "cell_type": "code",
   "execution_count": 7,
   "metadata": {},
   "outputs": [
    {
     "data": {
      "text/plain": [
       "<InstrumentContext: p300_single_v1 in RIGHT>"
      ]
     },
     "execution_count": 7,
     "metadata": {},
     "output_type": "execute_result"
    }
   ],
   "source": [
    "# Step 1 distribute glycerol\n",
    "\n",
    "p300.pick_up_tip()\n",
    "\n",
    "idx = 0 # tracking which wells in target already reacieved glycerol\n",
    "for glycerol_well in glycerol_wells:\n",
    "    # get slice of target wells that can be served from this well\n",
    "    target_wells:list = relevant_wells[idx:(idx+n_targets_per_g_well)]\n",
    "    if target_wells == []: break # all targets have been filled with glycerol\n",
    "\n",
    "    p300.distribute(volume=volume,\n",
    "                    source=glycerol_wellplate[glycerol_well],\n",
    "                    dest=[target_wellplate[well] for well in target_wells],\n",
    "                    disposal_volume=buffer_volume,\n",
    "                    new_tip=\"never\",)\n",
    "    \n",
    "    idx += n_targets_per_g_well\n",
    "\n",
    "# drops tip into thrashbin at deckslot 12\n",
    "p300.drop_tip(home_after=False) \n"
   ]
  },
  {
   "cell_type": "code",
   "execution_count": 8,
   "metadata": {},
   "outputs": [
    {
     "data": {
      "text/plain": [
       "<InstrumentContext: p300_single_v1 in RIGHT>"
      ]
     },
     "execution_count": 8,
     "metadata": {},
     "output_type": "execute_result"
    }
   ],
   "source": [
    "# step 2 and 3\n",
    "\n",
    "# number of times aspirating and dispensing into the same well for mixing\n",
    "mix_repetitions = 2\n",
    "# volume to aspirate and dispense\n",
    "mix_volume = 1.5*volume # this is more or less arbitrary, could also even choose mix_volume < volume\n",
    "\n",
    "\n",
    "p300.transfer(volume=volume,\n",
    "              source=[culture_wellplate[well] for well in relevant_wells],\n",
    "              dest=[target_wellplate[well] for well in relevant_wells],\n",
    "              new_tip=\"always\",\n",
    "              mix_after=(mix_repetitions, mix_volume),\n",
    "              )"
   ]
  },
  {
   "cell_type": "code",
   "execution_count": 10,
   "metadata": {},
   "outputs": [],
   "source": [
    "# if simulating you can print the commands with\n",
    "for c in protocol.commands():\n",
    "    print(c)"
   ]
  }
 ],
 "metadata": {
  "kernelspec": {
   "display_name": "igem",
   "language": "python",
   "name": "python3"
  },
  "language_info": {
   "codemirror_mode": {
    "name": "ipython",
    "version": 3
   },
   "file_extension": ".py",
   "mimetype": "text/x-python",
   "name": "python",
   "nbconvert_exporter": "python",
   "pygments_lexer": "ipython3",
   "version": "3.9.13"
  },
  "orig_nbformat": 4
 },
 "nbformat": 4,
 "nbformat_minor": 2
}
